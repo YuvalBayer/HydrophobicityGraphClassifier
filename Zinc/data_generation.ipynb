{
 "cells": [
  {
   "cell_type": "code",
   "execution_count": 3,
   "metadata": {},
   "outputs": [],
   "source": [
    "import matplotlib.pyplot as plt\n",
    "import numpy as np\n",
    "import pandas as pd\n",
    "\n",
    "from rdkit import Chem\n",
    "from sklearn.preprocessing import OneHotEncoder"
   ]
  },
  {
   "cell_type": "code",
   "execution_count": 21,
   "metadata": {},
   "outputs": [
    {
     "name": "stdout",
     "output_type": "stream",
     "text": [
      "len(data_1)= 1468\n",
      "len(data_35)= 2964\n"
     ]
    }
   ],
   "source": [
    "data_1 = pd.read_csv('Data/200d_-1_named+fda.csv')\n",
    "data_35 = pd.read_csv('Data/200d_3.5_+in-vitro.csv')\n",
    "\n",
    "print('len(data_1)=',len(data_1))\n",
    "print('len(data_35)=',len(data_35))"
   ]
  },
  {
   "cell_type": "code",
   "execution_count": 22,
   "metadata": {},
   "outputs": [],
   "source": [
    "data_35 = data_35[:len(data_1)]"
   ]
  },
  {
   "cell_type": "code",
   "execution_count": 14,
   "metadata": {},
   "outputs": [],
   "source": [
    "'''data = data_35\n",
    "i = 0\n",
    "\n",
    "mol = Chem.MolFromSmiles(data['smiles'][i]) # transforming the SMILE sequence to Chem object\n",
    "x = np.array([atom.GetAtomicNum() for atom in mol.GetAtoms()]) # getting the features (atoms number) [1D]\n",
    "A = Chem.rdmolops.GetAdjacencyMatrix(mol) # extracting the adjecency matrix\n",
    "edge_index = np.argwhere(A != 0).T # getting the edge_index matrix (2 X edge_num) from the adjecency [2D]'''"
   ]
  },
  {
   "cell_type": "code",
   "execution_count": 27,
   "metadata": {},
   "outputs": [],
   "source": [
    "def extract_graph_data(data):\n",
    "    \n",
    "    data_x = []\n",
    "    data_edge_index = []\n",
    "\n",
    "    for i in range(len(data)):\n",
    "        mol = Chem.MolFromSmiles(data['smiles'][i]) # transforming the SMILE sequence to Chem object\n",
    "\n",
    "        # Atoms feature vector\n",
    "        x = np.array([atom.GetAtomicNum() for atom in mol.GetAtoms()]) # evaluated with atom numbers[1D]\n",
    "\n",
    "        # Edge index matrix\n",
    "        A = Chem.rdmolops.GetAdjacencyMatrix(mol) # adjecency matrix\n",
    "        edge_index = np.argwhere(A != 0).T # (2 X edge_num) [2D]\n",
    "\n",
    "        data_x.append(x)\n",
    "        data_edge_index.append(edge_index)\n",
    "    \n",
    "    return data_x, data_edge_index\n",
    "\n",
    "data_x_35, data_edge_index_35 = extract_graph_data(data_35)\n",
    "data_x_1, data_edge_index_1 = extract_graph_data(data_1)"
   ]
  },
  {
   "cell_type": "code",
   "execution_count": 52,
   "metadata": {},
   "outputs": [
    {
     "data": {
      "text/plain": [
       "[array([ 5,  6,  7,  8,  9, 14, 15, 16, 17, 35, 53])]"
      ]
     },
     "execution_count": 52,
     "metadata": {},
     "output_type": "execute_result"
    }
   ],
   "source": [
    "encoder = OneHotEncoder()\n",
    "\n",
    "# fitting the encoder on the entire data features\n",
    "encoder.fit(np.concatenate(data_x_35 + data_x_1).reshape(-1,1))\n",
    "encoder.categories_"
   ]
  },
  {
   "cell_type": "code",
   "execution_count": 55,
   "metadata": {},
   "outputs": [
    {
     "name": "stdout",
     "output_type": "stream",
     "text": [
      "[[17]\n",
      " [ 6]\n",
      " [ 6]\n",
      " [ 6]\n",
      " [ 8]\n",
      " [ 6]\n",
      " [ 6]\n",
      " [ 6]\n",
      " [ 6]\n",
      " [ 6]\n",
      " [16]\n",
      " [ 7]]\n",
      "[[0. 0. 0. 0. 0. 0. 0. 0. 1. 0. 0.]\n",
      " [0. 1. 0. 0. 0. 0. 0. 0. 0. 0. 0.]\n",
      " [0. 1. 0. 0. 0. 0. 0. 0. 0. 0. 0.]\n",
      " [0. 1. 0. 0. 0. 0. 0. 0. 0. 0. 0.]\n",
      " [0. 0. 0. 1. 0. 0. 0. 0. 0. 0. 0.]\n",
      " [0. 1. 0. 0. 0. 0. 0. 0. 0. 0. 0.]\n",
      " [0. 1. 0. 0. 0. 0. 0. 0. 0. 0. 0.]\n",
      " [0. 1. 0. 0. 0. 0. 0. 0. 0. 0. 0.]\n",
      " [0. 1. 0. 0. 0. 0. 0. 0. 0. 0. 0.]\n",
      " [0. 1. 0. 0. 0. 0. 0. 0. 0. 0. 0.]\n",
      " [0. 0. 0. 0. 0. 0. 0. 1. 0. 0. 0.]\n",
      " [0. 0. 1. 0. 0. 0. 0. 0. 0. 0. 0.]]\n"
     ]
    }
   ],
   "source": [
    "# example\n",
    "print(data_x_35[0].reshape(-1,1))\n",
    "print(encoder.transform(data_x_35[0].reshape(-1,1)).toarray())"
   ]
  },
  {
   "cell_type": "code",
   "execution_count": 56,
   "metadata": {},
   "outputs": [],
   "source": [
    "data_x_hot_1 = [encoder.transform(x.reshape(-1, 1)).toarray() for x in data_x_1]\n",
    "data_x_hot_35 = [encoder.transform(x.reshape(-1, 1)).toarray() for x in data_x_35]"
   ]
  }
 ],
 "metadata": {
  "kernelspec": {
   "display_name": "my-rdkit-env",
   "language": "python",
   "name": "python3"
  },
  "language_info": {
   "codemirror_mode": {
    "name": "ipython",
    "version": 3
   },
   "file_extension": ".py",
   "mimetype": "text/x-python",
   "name": "python",
   "nbconvert_exporter": "python",
   "pygments_lexer": "ipython3",
   "version": "3.11.0"
  },
  "orig_nbformat": 4,
  "vscode": {
   "interpreter": {
    "hash": "6fcc65865f79bf56c213e3c94f3b45e52ccd585e64b6a3d7c2640124c1220336"
   }
  }
 },
 "nbformat": 4,
 "nbformat_minor": 2
}
