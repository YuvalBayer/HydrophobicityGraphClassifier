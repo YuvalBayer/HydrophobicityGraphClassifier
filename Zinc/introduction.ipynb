{
 "cells": [
  {
   "attachments": {},
   "cell_type": "markdown",
   "metadata": {},
   "source": [
    "# Molecule Graph Representation"
   ]
  },
  {
   "attachments": {},
   "cell_type": "markdown",
   "metadata": {},
   "source": [
    "## Introduction"
   ]
  },
  {
   "attachments": {},
   "cell_type": "markdown",
   "metadata": {},
   "source": [
    "Machine Learning models designed for various tasks on molecules data, have been standing out for their impresive abilities these days.\n",
    "By given molecules structures, there are two options to represent it as input of the model.\n",
    "One is a sequence representation where atoms and bonds are summed up to one string line such as the format of \"simplified molecular input line-entry system\" (SMILES).\n",
    "For example, Methan (CH3) as \"C\", Dimethyl ether (CH3OCH3) as \"COC\". \n",
    "The second option which is much more popular is graph representation.\n",
    "In contrast to sequential representation, the molecule is represented as graph where each atom and bond is represented by a node and edge respectively.\n",
    "That way, information regarding the spatial interaction between each atom is exploited  by the model which results in better performence (Guo et al., 2022).\n",
    "\n",
    "Molecule graphs may be complex by introducing more specific information about the nodes and edges, e.g., in addition to atom type, nodes may have information regrading chirality (for 3D graphs) or hybridization; edges may have the bond type, stereochemistry etc (Guo et al., 2022).\n",
    "However, we are going to be focused on the most simple graph representation where nodes are atom types and edges corresponds to any covalent bonds."
   ]
  },
  {
   "attachments": {},
   "cell_type": "markdown",
   "metadata": {},
   "source": [
    "## Data"
   ]
  },
  {
   "attachments": {},
   "cell_type": "markdown",
   "metadata": {},
   "source": [
    "Following Guo et al. (2022) and Lim et al. (2018), we can first take molecule data stored as SMILE string.\n",
    "We do so by using [ZINC](https://zinc.docking.org/) data set (Irwin et al., 2012).\n",
    "From there, a dataset composed of nearly 30,000 exmaples was downloaded.\n",
    "The data molecules are charcterized with molecular weight less than 200 dalton and $\\log P$ up to -1 (hydrophobic behavior).\n",
    "Moreover, only named molecules under FDA were selected."
   ]
  },
  {
   "cell_type": "code",
   "execution_count": null,
   "metadata": {},
   "outputs": [],
   "source": [
    "import matplotlib.pyplot as plt\n",
    "import numpy as np\n",
    "import pandas as pd"
   ]
  },
  {
   "cell_type": "code",
   "execution_count": 2,
   "metadata": {},
   "outputs": [
    {
     "data": {
      "text/html": [
       "<div>\n",
       "<style scoped>\n",
       "    .dataframe tbody tr th:only-of-type {\n",
       "        vertical-align: middle;\n",
       "    }\n",
       "\n",
       "    .dataframe tbody tr th {\n",
       "        vertical-align: top;\n",
       "    }\n",
       "\n",
       "    .dataframe thead th {\n",
       "        text-align: right;\n",
       "    }\n",
       "</style>\n",
       "<table border=\"1\" class=\"dataframe\">\n",
       "  <thead>\n",
       "    <tr style=\"text-align: right;\">\n",
       "      <th></th>\n",
       "      <th>zinc_id</th>\n",
       "      <th>smiles</th>\n",
       "    </tr>\n",
       "  </thead>\n",
       "  <tbody>\n",
       "    <tr>\n",
       "      <th>0</th>\n",
       "      <td>ZINC000001530427</td>\n",
       "      <td>C[C@@H]1O[C@@H]1P(=O)(O)O</td>\n",
       "    </tr>\n",
       "    <tr>\n",
       "      <th>1</th>\n",
       "      <td>ZINC000003807804</td>\n",
       "      <td>Clc1ccccc1C(c1ccccc1)(c1ccccc1)n1ccnc1</td>\n",
       "    </tr>\n",
       "    <tr>\n",
       "      <th>2</th>\n",
       "      <td>ZINC000000120286</td>\n",
       "      <td>Nc1nc(N)c2nc(-c3ccccc3)c(N)nc2n1</td>\n",
       "    </tr>\n",
       "    <tr>\n",
       "      <th>3</th>\n",
       "      <td>ZINC000000008492</td>\n",
       "      <td>Oc1cccc2cccnc12</td>\n",
       "    </tr>\n",
       "    <tr>\n",
       "      <th>4</th>\n",
       "      <td>ZINC000003607120</td>\n",
       "      <td>COc1c(N2CCN[C@H](C)C2)c(F)cc2c(=O)c(C(=O)O)cn(...</td>\n",
       "    </tr>\n",
       "  </tbody>\n",
       "</table>\n",
       "</div>"
      ],
      "text/plain": [
       "            zinc_id                                             smiles\n",
       "0  ZINC000001530427                          C[C@@H]1O[C@@H]1P(=O)(O)O\n",
       "1  ZINC000003807804             Clc1ccccc1C(c1ccccc1)(c1ccccc1)n1ccnc1\n",
       "2  ZINC000000120286                   Nc1nc(N)c2nc(-c3ccccc3)c(N)nc2n1\n",
       "3  ZINC000000008492                                    Oc1cccc2cccnc12\n",
       "4  ZINC000003607120  COc1c(N2CCN[C@H](C)C2)c(F)cc2c(=O)c(C(=O)O)cn(..."
      ]
     },
     "execution_count": 2,
     "metadata": {},
     "output_type": "execute_result"
    }
   ],
   "source": [
    "data = pd.read_csv('Data/200d_-1_named+fda.csv')\n",
    "data.head()"
   ]
  },
  {
   "cell_type": "code",
   "execution_count": null,
   "metadata": {},
   "outputs": [],
   "source": [
    "from rdkit import Chem"
   ]
  },
  {
   "attachments": {},
   "cell_type": "markdown",
   "metadata": {},
   "source": [
    "### One molecule example"
   ]
  },
  {
   "attachments": {
    "image.png": {
     "image/png": "[encoded data removed]"
    }
   },
   "cell_type": "markdown",
   "metadata": {},
   "source": [
    "The top example with ZINC000001530427 id is Fosfomycin, an antibiotic used for bladder infections:\n",
    "\n",
    "![image.png](attachment:image.png)\n",
    "\n",
    "The phosphate group is denoted by P(=O)(O)O while the epoxypropyl group (the triangle) is C[C@@H]1O[C@@H]1 - configurations is specified by @ or @@.\n",
    "\n",
    "Now you can use the `Chem.MolFromSmiles` function to create a rdchem object. When given to the kenel, it actually disply the molecule."
   ]
  },
  {
   "cell_type": "code",
   "execution_count": 10,
   "metadata": {},
   "outputs": [
    {
     "data": {
      "image/png": "[encoded data removed]",
      "text/plain": [
       "<rdkit.Chem.rdchem.Mol at 0x1e86f55f220>"
      ]
     },
     "execution_count": 10,
     "metadata": {},
     "output_type": "execute_result"
    }
   ],
   "source": [
    "mol = Chem.MolFromSmiles(data['smiles'][0])\n",
    "mol"
   ]
  },
  {
   "attachments": {},
   "cell_type": "markdown",
   "metadata": {},
   "source": [
    "Get the number of atoms in the conformer (not included hydrogen):"
   ]
  },
  {
   "cell_type": "code",
   "execution_count": 11,
   "metadata": {},
   "outputs": [
    {
     "data": {
      "text/plain": [
       "8"
      ]
     },
     "execution_count": 11,
     "metadata": {},
     "output_type": "execute_result"
    }
   ],
   "source": [
    "mol.GetNumAtoms()"
   ]
  },
  {
   "attachments": {},
   "cell_type": "markdown",
   "metadata": {},
   "source": [
    "Print all atoms in the molecule (according to atom number or symbol, not including hydrogen):"
   ]
  },
  {
   "cell_type": "code",
   "execution_count": 21,
   "metadata": {},
   "outputs": [
    {
     "name": "stdout",
     "output_type": "stream",
     "text": [
      "C  -  6\n",
      "C  -  6\n",
      "O  -  8\n",
      "C  -  6\n",
      "P  -  15\n",
      "O  -  8\n",
      "O  -  8\n",
      "O  -  8\n"
     ]
    }
   ],
   "source": [
    "atom_labels = []\n",
    "for atom in mol.GetAtoms():\n",
    "    atom_labels.append(atom.GetSymbol())\n",
    "    print(atom_labels[-1], ' - ',atom.GetAtomicNum())"
   ]
  },
  {
   "attachments": {},
   "cell_type": "markdown",
   "metadata": {},
   "source": [
    "Adjacency matrix:"
   ]
  },
  {
   "cell_type": "code",
   "execution_count": 23,
   "metadata": {},
   "outputs": [
    {
     "data": {
      "text/plain": [
       "array([[0, 1, 0, 0, 0, 0, 0, 0],\n",
       "       [1, 0, 1, 1, 0, 0, 0, 0],\n",
       "       [0, 1, 0, 1, 0, 0, 0, 0],\n",
       "       [0, 1, 1, 0, 1, 0, 0, 0],\n",
       "       [0, 0, 0, 1, 0, 1, 1, 1],\n",
       "       [0, 0, 0, 0, 1, 0, 0, 0],\n",
       "       [0, 0, 0, 0, 1, 0, 0, 0],\n",
       "       [0, 0, 0, 0, 1, 0, 0, 0]], dtype=int32)"
      ]
     },
     "execution_count": 23,
     "metadata": {},
     "output_type": "execute_result"
    }
   ],
   "source": [
    "mat = Chem.rdmolops.GetAdjacencyMatrix(mol)\n",
    "mat"
   ]
  },
  {
   "cell_type": "code",
   "execution_count": 49,
   "metadata": {},
   "outputs": [
    {
     "data": {
      "text/plain": [
       "<matplotlib.collections.LineCollection at 0x1e8747445d0>"
      ]
     },
     "execution_count": 49,
     "metadata": {},
     "output_type": "execute_result"
    },
    {
     "data": {
      "image/png": "[encoded data removed]",
      "text/plain": [
       "<Figure size 300x300 with 1 Axes>"
      ]
     },
     "metadata": {},
     "output_type": "display_data"
    }
   ],
   "source": [
    "fig, axis = plt.subplots(figsize=(3, 3))\n",
    "axis.matshow(mat, cmap='binary')\n",
    "pos = np.arange(len(atom_labels))\n",
    "axis.set_xticks(ticks=pos)\n",
    "axis.set_yticks(ticks=pos)\n",
    "axis.set_xticklabels(atom_labels)\n",
    "axis.set_yticklabels(atom_labels)\n",
    "lim = axis.get_xlim()\n",
    "axis.vlines(pos+0.5, lim[0], lim[1], color='k')\n",
    "axis.hlines(pos+0.5, lim[0], lim[1], color='k')"
   ]
  },
  {
   "attachments": {},
   "cell_type": "markdown",
   "metadata": {},
   "source": [
    "## Reference"
   ]
  },
  {
   "attachments": {},
   "cell_type": "markdown",
   "metadata": {},
   "source": [
    "Guo, Z., Nan, B., Tian, Y., Wiest, O., Zhang, C., & Chawla, N. V. (2022). Graph-based molecular representation learning. arXiv preprint arXiv:2207.04869.\n",
    "\n",
    "Irwin, J. J., Sterling, T., Mysinger, M. M., Bolstad, E. S., & Coleman, R. G. (2012). ZINC: a free tool to discover chemistry for biology. Journal of chemical information and modeling, 52(7), 1757-1768.\n",
    "\n",
    "Lim, J., Ryu, S., Kim, J. W., & Kim, W. Y. (2018). Molecular generative model based on conditional variational autoencoder for de novo molecular design. Journal of cheminformatics, 10(1), 1-9.\n",
    "\n"
   ]
  }
 ],
 "metadata": {
  "kernelspec": {
   "display_name": "my-rdkit-env",
   "language": "python",
   "name": "python3"
  },
  "language_info": {
   "codemirror_mode": {
    "name": "ipython",
    "version": 3
   },
   "file_extension": ".py",
   "mimetype": "text/x-python",
   "name": "python",
   "nbconvert_exporter": "python",
   "pygments_lexer": "ipython3",
   "version": "3.11.0"
  },
  "orig_nbformat": 4,
  "vscode": {
   "interpreter": {
    "hash": "6fcc65865f79bf56c213e3c94f3b45e52ccd585e64b6a3d7c2640124c1220336"
   }
  }
 },
 "nbformat": 4,
 "nbformat_minor": 2
}
